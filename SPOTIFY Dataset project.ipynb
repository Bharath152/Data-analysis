{
 "cells": [
  {
   "cell_type": "markdown",
   "id": "c2fd1139",
   "metadata": {},
   "source": [
    "# SPOTIFY DATASET \n",
    "\n"
   ]
  },
  {
   "cell_type": "markdown",
   "id": "92ce3b81",
   "metadata": {},
   "source": [
    "This is a spotify dataset project using data analysis. This  data will contain the details of the spotify usesrs."
   ]
  },
  {
   "cell_type": "code",
   "execution_count": 2,
   "id": "f118d4b6",
   "metadata": {},
   "outputs": [],
   "source": [
    "import seaborn as sns\n",
    "import pandas as pd\n",
    "import numpy as np\n",
    "import matplotlib.pyplot as plt"
   ]
  },
  {
   "cell_type": "code",
   "execution_count": 17,
   "id": "ff5c88af",
   "metadata": {},
   "outputs": [],
   "source": [
    "import warnings"
   ]
  },
  {
   "cell_type": "markdown",
   "id": "a481b00f",
   "metadata": {},
   "source": [
    "## 1.Load the dataset"
   ]
  },
  {
   "cell_type": "code",
   "execution_count": 4,
   "id": "8ebb2aea",
   "metadata": {
    "scrolled": true
   },
   "outputs": [
    {
     "data": {
      "text/html": [
       "<div>\n",
       "<style scoped>\n",
       "    .dataframe tbody tr th:only-of-type {\n",
       "        vertical-align: middle;\n",
       "    }\n",
       "\n",
       "    .dataframe tbody tr th {\n",
       "        vertical-align: top;\n",
       "    }\n",
       "\n",
       "    .dataframe thead th {\n",
       "        text-align: right;\n",
       "    }\n",
       "</style>\n",
       "<table border=\"1\" class=\"dataframe\">\n",
       "  <thead>\n",
       "    <tr style=\"text-align: right;\">\n",
       "      <th></th>\n",
       "      <th>Age</th>\n",
       "      <th>Gender</th>\n",
       "      <th>spotify_usage_period</th>\n",
       "      <th>spotify_listening_device</th>\n",
       "      <th>spotify_subscription_plan</th>\n",
       "      <th>premium_sub_willingness</th>\n",
       "      <th>preffered_premium_plan</th>\n",
       "      <th>preferred_listening_content</th>\n",
       "      <th>fav_music_genre</th>\n",
       "      <th>music_time_slot</th>\n",
       "      <th>music_Influencial_mood</th>\n",
       "      <th>music_lis_frequency</th>\n",
       "      <th>music_expl_method</th>\n",
       "      <th>music_recc_rating</th>\n",
       "      <th>pod_lis_frequency</th>\n",
       "      <th>fav_pod_genre</th>\n",
       "      <th>preffered_pod_format</th>\n",
       "      <th>pod_host_preference</th>\n",
       "      <th>preffered_pod_duration</th>\n",
       "      <th>pod_variety_satisfaction</th>\n",
       "    </tr>\n",
       "  </thead>\n",
       "  <tbody>\n",
       "    <tr>\n",
       "      <th>0</th>\n",
       "      <td>20-35</td>\n",
       "      <td>Female</td>\n",
       "      <td>More than 2 years</td>\n",
       "      <td>Smart speakers or voice assistants</td>\n",
       "      <td>Free (ad-supported)</td>\n",
       "      <td>Yes</td>\n",
       "      <td>Family Plan-Rs 179/month</td>\n",
       "      <td>Podcast</td>\n",
       "      <td>Melody</td>\n",
       "      <td>Night</td>\n",
       "      <td>Sadness or melancholy</td>\n",
       "      <td>leisure time</td>\n",
       "      <td>Playlists</td>\n",
       "      <td>3</td>\n",
       "      <td>Daily</td>\n",
       "      <td>Comedy</td>\n",
       "      <td>Interview</td>\n",
       "      <td>Both</td>\n",
       "      <td>Both</td>\n",
       "      <td>Ok</td>\n",
       "    </tr>\n",
       "    <tr>\n",
       "      <th>1</th>\n",
       "      <td>12-20</td>\n",
       "      <td>Male</td>\n",
       "      <td>More than 2 years</td>\n",
       "      <td>Computer or laptop</td>\n",
       "      <td>Free (ad-supported)</td>\n",
       "      <td>Yes</td>\n",
       "      <td>Individual Plan- Rs 119/ month</td>\n",
       "      <td>Podcast</td>\n",
       "      <td>Rap</td>\n",
       "      <td>Afternoon</td>\n",
       "      <td>Social gatherings or parties</td>\n",
       "      <td>Workout session</td>\n",
       "      <td>Playlists</td>\n",
       "      <td>2</td>\n",
       "      <td>Several times a week</td>\n",
       "      <td>Comedy</td>\n",
       "      <td>Interview</td>\n",
       "      <td>Both</td>\n",
       "      <td>NaN</td>\n",
       "      <td>Satisfied</td>\n",
       "    </tr>\n",
       "    <tr>\n",
       "      <th>2</th>\n",
       "      <td>35-60</td>\n",
       "      <td>Others</td>\n",
       "      <td>6 months to 1 year</td>\n",
       "      <td>Smart speakers or voice assistants</td>\n",
       "      <td>Free (ad-supported)</td>\n",
       "      <td>Yes</td>\n",
       "      <td>Student Plan-Rs 59/month</td>\n",
       "      <td>Podcast</td>\n",
       "      <td>Pop</td>\n",
       "      <td>Night</td>\n",
       "      <td>Relaxation and stress relief</td>\n",
       "      <td>Study Hours, While Traveling</td>\n",
       "      <td>Playlists</td>\n",
       "      <td>4</td>\n",
       "      <td>Once a week</td>\n",
       "      <td>Sports</td>\n",
       "      <td>Interview</td>\n",
       "      <td>NaN</td>\n",
       "      <td>Both</td>\n",
       "      <td>Satisfied</td>\n",
       "    </tr>\n",
       "    <tr>\n",
       "      <th>3</th>\n",
       "      <td>20-35</td>\n",
       "      <td>Female</td>\n",
       "      <td>1 year to 2 years</td>\n",
       "      <td>Smartphone, Smart speakers or voice assistants</td>\n",
       "      <td>Free (ad-supported)</td>\n",
       "      <td>No</td>\n",
       "      <td>NaN</td>\n",
       "      <td>Music</td>\n",
       "      <td>Melody</td>\n",
       "      <td>Night</td>\n",
       "      <td>Relaxation and stress relief, Social gathering...</td>\n",
       "      <td>Office hours, Workout session, leisure time</td>\n",
       "      <td>recommendations, Playlists</td>\n",
       "      <td>4</td>\n",
       "      <td>Never</td>\n",
       "      <td>NaN</td>\n",
       "      <td>NaN</td>\n",
       "      <td>NaN</td>\n",
       "      <td>NaN</td>\n",
       "      <td>Ok</td>\n",
       "    </tr>\n",
       "    <tr>\n",
       "      <th>4</th>\n",
       "      <td>20-35</td>\n",
       "      <td>Female</td>\n",
       "      <td>1 year to 2 years</td>\n",
       "      <td>Smartphone</td>\n",
       "      <td>Free (ad-supported)</td>\n",
       "      <td>No</td>\n",
       "      <td>NaN</td>\n",
       "      <td>Music</td>\n",
       "      <td>Melody</td>\n",
       "      <td>Night</td>\n",
       "      <td>Relaxation and stress relief</td>\n",
       "      <td>leisure time</td>\n",
       "      <td>recommendations, Playlists</td>\n",
       "      <td>4</td>\n",
       "      <td>Rarely</td>\n",
       "      <td>Lifestyle and Health</td>\n",
       "      <td>Story telling</td>\n",
       "      <td>Well known individuals</td>\n",
       "      <td>Both</td>\n",
       "      <td>Ok</td>\n",
       "    </tr>\n",
       "    <tr>\n",
       "      <th>...</th>\n",
       "      <td>...</td>\n",
       "      <td>...</td>\n",
       "      <td>...</td>\n",
       "      <td>...</td>\n",
       "      <td>...</td>\n",
       "      <td>...</td>\n",
       "      <td>...</td>\n",
       "      <td>...</td>\n",
       "      <td>...</td>\n",
       "      <td>...</td>\n",
       "      <td>...</td>\n",
       "      <td>...</td>\n",
       "      <td>...</td>\n",
       "      <td>...</td>\n",
       "      <td>...</td>\n",
       "      <td>...</td>\n",
       "      <td>...</td>\n",
       "      <td>...</td>\n",
       "      <td>...</td>\n",
       "      <td>...</td>\n",
       "    </tr>\n",
       "    <tr>\n",
       "      <th>515</th>\n",
       "      <td>20-35</td>\n",
       "      <td>Female</td>\n",
       "      <td>More than 2 years</td>\n",
       "      <td>Smartphone, Computer or laptop, Wearable devices</td>\n",
       "      <td>Free (ad-supported)</td>\n",
       "      <td>Yes</td>\n",
       "      <td>Student Plan-Rs 59/month</td>\n",
       "      <td>Music</td>\n",
       "      <td>Pop</td>\n",
       "      <td>Morning</td>\n",
       "      <td>Uplifting and motivational, Sadness or melancholy</td>\n",
       "      <td>While Traveling</td>\n",
       "      <td>recommendations</td>\n",
       "      <td>5</td>\n",
       "      <td>Rarely</td>\n",
       "      <td>Lifestyle and Health</td>\n",
       "      <td>Conversational</td>\n",
       "      <td>Both</td>\n",
       "      <td>Shorter</td>\n",
       "      <td>Ok</td>\n",
       "    </tr>\n",
       "    <tr>\n",
       "      <th>516</th>\n",
       "      <td>20-35</td>\n",
       "      <td>Female</td>\n",
       "      <td>More than 2 years</td>\n",
       "      <td>Smartphone, Computer or laptop</td>\n",
       "      <td>Free (ad-supported)</td>\n",
       "      <td>Yes</td>\n",
       "      <td>Student Plan-Rs 59/month</td>\n",
       "      <td>Music</td>\n",
       "      <td>Pop</td>\n",
       "      <td>Night</td>\n",
       "      <td>Relaxation and stress relief, Uplifting and mo...</td>\n",
       "      <td>While Traveling, Workout session, leisure time</td>\n",
       "      <td>Others</td>\n",
       "      <td>2</td>\n",
       "      <td>Rarely</td>\n",
       "      <td>Comedy</td>\n",
       "      <td>Story telling</td>\n",
       "      <td>Both</td>\n",
       "      <td>Shorter</td>\n",
       "      <td>Ok</td>\n",
       "    </tr>\n",
       "    <tr>\n",
       "      <th>517</th>\n",
       "      <td>20-35</td>\n",
       "      <td>Female</td>\n",
       "      <td>More than 2 years</td>\n",
       "      <td>Smartphone</td>\n",
       "      <td>Free (ad-supported)</td>\n",
       "      <td>No</td>\n",
       "      <td>Student Plan-Rs 59/month</td>\n",
       "      <td>Music</td>\n",
       "      <td>Pop</td>\n",
       "      <td>Night</td>\n",
       "      <td>Relaxation and stress relief</td>\n",
       "      <td>leisure time</td>\n",
       "      <td>recommendations</td>\n",
       "      <td>3</td>\n",
       "      <td>Never</td>\n",
       "      <td>NaN</td>\n",
       "      <td>Story telling</td>\n",
       "      <td>Both</td>\n",
       "      <td>Shorter</td>\n",
       "      <td>Ok</td>\n",
       "    </tr>\n",
       "    <tr>\n",
       "      <th>518</th>\n",
       "      <td>20-35</td>\n",
       "      <td>Female</td>\n",
       "      <td>6 months to 1 year</td>\n",
       "      <td>Smartphone</td>\n",
       "      <td>Premium (paid subscription)</td>\n",
       "      <td>Yes</td>\n",
       "      <td>Individual Plan- Rs 119/ month</td>\n",
       "      <td>Music</td>\n",
       "      <td>Melody</td>\n",
       "      <td>Night</td>\n",
       "      <td>Relaxation and stress relief, Uplifting and mo...</td>\n",
       "      <td>Workout session, leisure time</td>\n",
       "      <td>recommendations, Others</td>\n",
       "      <td>2</td>\n",
       "      <td>Several times a week</td>\n",
       "      <td>Comedy</td>\n",
       "      <td>Conversational</td>\n",
       "      <td>Both</td>\n",
       "      <td>Longer</td>\n",
       "      <td>Satisfied</td>\n",
       "    </tr>\n",
       "    <tr>\n",
       "      <th>519</th>\n",
       "      <td>20-35</td>\n",
       "      <td>Female</td>\n",
       "      <td>More than 2 years</td>\n",
       "      <td>Smartphone, Computer or laptop</td>\n",
       "      <td>Premium (paid subscription)</td>\n",
       "      <td>Yes</td>\n",
       "      <td>Student Plan-Rs 59/month</td>\n",
       "      <td>Music</td>\n",
       "      <td>Pop</td>\n",
       "      <td>Night</td>\n",
       "      <td>Relaxation and stress relief, Sadness or melan...</td>\n",
       "      <td>Office hours,Study Hours, While Traveling, lei...</td>\n",
       "      <td>Playlists, Radio</td>\n",
       "      <td>3</td>\n",
       "      <td>Never</td>\n",
       "      <td>NaN</td>\n",
       "      <td>NaN</td>\n",
       "      <td>NaN</td>\n",
       "      <td>NaN</td>\n",
       "      <td>Ok</td>\n",
       "    </tr>\n",
       "  </tbody>\n",
       "</table>\n",
       "<p>520 rows × 20 columns</p>\n",
       "</div>"
      ],
      "text/plain": [
       "       Age  Gender spotify_usage_period  \\\n",
       "0    20-35  Female    More than 2 years   \n",
       "1    12-20    Male    More than 2 years   \n",
       "2    35-60  Others   6 months to 1 year   \n",
       "3    20-35  Female    1 year to 2 years   \n",
       "4    20-35  Female    1 year to 2 years   \n",
       "..     ...     ...                  ...   \n",
       "515  20-35  Female    More than 2 years   \n",
       "516  20-35  Female    More than 2 years   \n",
       "517  20-35  Female    More than 2 years   \n",
       "518  20-35  Female   6 months to 1 year   \n",
       "519  20-35  Female    More than 2 years   \n",
       "\n",
       "                             spotify_listening_device  \\\n",
       "0                  Smart speakers or voice assistants   \n",
       "1                                  Computer or laptop   \n",
       "2                  Smart speakers or voice assistants   \n",
       "3      Smartphone, Smart speakers or voice assistants   \n",
       "4                                          Smartphone   \n",
       "..                                                ...   \n",
       "515  Smartphone, Computer or laptop, Wearable devices   \n",
       "516                    Smartphone, Computer or laptop   \n",
       "517                                        Smartphone   \n",
       "518                                        Smartphone   \n",
       "519                    Smartphone, Computer or laptop   \n",
       "\n",
       "       spotify_subscription_plan premium_sub_willingness  \\\n",
       "0            Free (ad-supported)                     Yes   \n",
       "1            Free (ad-supported)                     Yes   \n",
       "2            Free (ad-supported)                     Yes   \n",
       "3            Free (ad-supported)                      No   \n",
       "4            Free (ad-supported)                      No   \n",
       "..                           ...                     ...   \n",
       "515          Free (ad-supported)                     Yes   \n",
       "516          Free (ad-supported)                     Yes   \n",
       "517          Free (ad-supported)                      No   \n",
       "518  Premium (paid subscription)                     Yes   \n",
       "519  Premium (paid subscription)                     Yes   \n",
       "\n",
       "             preffered_premium_plan preferred_listening_content  \\\n",
       "0          Family Plan-Rs 179/month                     Podcast   \n",
       "1    Individual Plan- Rs 119/ month                     Podcast   \n",
       "2          Student Plan-Rs 59/month                     Podcast   \n",
       "3                               NaN                       Music   \n",
       "4                               NaN                       Music   \n",
       "..                              ...                         ...   \n",
       "515        Student Plan-Rs 59/month                       Music   \n",
       "516        Student Plan-Rs 59/month                       Music   \n",
       "517        Student Plan-Rs 59/month                       Music   \n",
       "518  Individual Plan- Rs 119/ month                       Music   \n",
       "519        Student Plan-Rs 59/month                       Music   \n",
       "\n",
       "    fav_music_genre music_time_slot  \\\n",
       "0            Melody           Night   \n",
       "1               Rap       Afternoon   \n",
       "2               Pop           Night   \n",
       "3            Melody           Night   \n",
       "4            Melody           Night   \n",
       "..              ...             ...   \n",
       "515             Pop         Morning   \n",
       "516             Pop           Night   \n",
       "517             Pop           Night   \n",
       "518          Melody           Night   \n",
       "519             Pop           Night   \n",
       "\n",
       "                                music_Influencial_mood  \\\n",
       "0                                Sadness or melancholy   \n",
       "1                         Social gatherings or parties   \n",
       "2                         Relaxation and stress relief   \n",
       "3    Relaxation and stress relief, Social gathering...   \n",
       "4                         Relaxation and stress relief   \n",
       "..                                                 ...   \n",
       "515  Uplifting and motivational, Sadness or melancholy   \n",
       "516  Relaxation and stress relief, Uplifting and mo...   \n",
       "517                       Relaxation and stress relief   \n",
       "518  Relaxation and stress relief, Uplifting and mo...   \n",
       "519  Relaxation and stress relief, Sadness or melan...   \n",
       "\n",
       "                                   music_lis_frequency  \\\n",
       "0                                         leisure time   \n",
       "1                                      Workout session   \n",
       "2                         Study Hours, While Traveling   \n",
       "3          Office hours, Workout session, leisure time   \n",
       "4                                         leisure time   \n",
       "..                                                 ...   \n",
       "515                                    While Traveling   \n",
       "516     While Traveling, Workout session, leisure time   \n",
       "517                                       leisure time   \n",
       "518                      Workout session, leisure time   \n",
       "519  Office hours,Study Hours, While Traveling, lei...   \n",
       "\n",
       "              music_expl_method  music_recc_rating     pod_lis_frequency  \\\n",
       "0                     Playlists                  3                 Daily   \n",
       "1                     Playlists                  2  Several times a week   \n",
       "2                     Playlists                  4           Once a week   \n",
       "3    recommendations, Playlists                  4                 Never   \n",
       "4    recommendations, Playlists                  4                Rarely   \n",
       "..                          ...                ...                   ...   \n",
       "515             recommendations                  5                Rarely   \n",
       "516                      Others                  2                Rarely   \n",
       "517             recommendations                  3                 Never   \n",
       "518     recommendations, Others                  2  Several times a week   \n",
       "519            Playlists, Radio                  3                 Never   \n",
       "\n",
       "            fav_pod_genre preffered_pod_format     pod_host_preference  \\\n",
       "0                  Comedy            Interview                    Both   \n",
       "1                  Comedy            Interview                    Both   \n",
       "2                  Sports            Interview                     NaN   \n",
       "3                     NaN                  NaN                     NaN   \n",
       "4    Lifestyle and Health        Story telling  Well known individuals   \n",
       "..                    ...                  ...                     ...   \n",
       "515  Lifestyle and Health       Conversational                    Both   \n",
       "516                Comedy        Story telling                    Both   \n",
       "517                   NaN        Story telling                    Both   \n",
       "518                Comedy       Conversational                    Both   \n",
       "519                   NaN                  NaN                     NaN   \n",
       "\n",
       "    preffered_pod_duration pod_variety_satisfaction  \n",
       "0                     Both                       Ok  \n",
       "1                      NaN                Satisfied  \n",
       "2                     Both                Satisfied  \n",
       "3                      NaN                       Ok  \n",
       "4                     Both                       Ok  \n",
       "..                     ...                      ...  \n",
       "515                Shorter                       Ok  \n",
       "516                Shorter                       Ok  \n",
       "517                Shorter                       Ok  \n",
       "518                 Longer                Satisfied  \n",
       "519                    NaN                       Ok  \n",
       "\n",
       "[520 rows x 20 columns]"
      ]
     },
     "execution_count": 4,
     "metadata": {},
     "output_type": "execute_result"
    }
   ],
   "source": [
    "df=pd.read_excel('Spotify_data.xlsx')\n",
    "df"
   ]
  },
  {
   "cell_type": "markdown",
   "id": "de1b654e",
   "metadata": {},
   "source": [
    "## 2.Distribution of age groups among Spotify users"
   ]
  },
  {
   "cell_type": "code",
   "execution_count": 58,
   "id": "1b246ba8",
   "metadata": {
    "scrolled": false
   },
   "outputs": [
    {
     "name": "stderr",
     "output_type": "stream",
     "text": [
      "C:\\Users\\HP\\anaconda3\\Lib\\site-packages\\seaborn\\axisgrid.py:118: UserWarning: The figure layout has changed to tight\n",
      "  self._figure.tight_layout(*args, **kwargs)\n"
     ]
    },
    {
     "data": {
      "image/png": "[encoded data removed]",
      "text/plain": [
       "<Figure size 500x500 with 1 Axes>"
      ]
     },
     "metadata": {},
     "output_type": "display_data"
    },
    {
     "data": {
      "text/plain": [
       "<function warnings.filterwarnings(action, message='', category=<class 'Warning'>, module='', lineno=0, append=False)>"
      ]
     },
     "execution_count": 58,
     "metadata": {},
     "output_type": "execute_result"
    }
   ],
   "source": [
    "sns.displot(df['Age'])\n",
    "plt.show()\n",
    "warnings.filterwarnings"
   ]
  },
  {
   "cell_type": "code",
   "execution_count": null,
   "id": "45e568b1",
   "metadata": {},
   "outputs": [],
   "source": [
    " AGE group of 20-35 are the most spotify users from this dataset."
   ]
  },
  {
   "cell_type": "markdown",
   "id": "de211460",
   "metadata": {},
   "source": [
    "## 3. Difference in Spotify usage period between different age groups\n"
   ]
  },
  {
   "cell_type": "code",
   "execution_count": 15,
   "id": "4cd1f67f",
   "metadata": {
    "scrolled": false
   },
   "outputs": [
    {
     "data": {
      "text/plain": [
       "spotify_usage_period\n",
       "More than 2 years     169\n",
       "1 year to 2 years     141\n",
       "6 months to 1 year    119\n",
       "Less than 6 months     91\n",
       "Name: count, dtype: int64"
      ]
     },
     "execution_count": 15,
     "metadata": {},
     "output_type": "execute_result"
    }
   ],
   "source": [
    "df['spotify_usage_period'].value_counts()"
   ]
  },
  {
   "cell_type": "markdown",
   "id": "cbb0f323",
   "metadata": {},
   "source": [
    "More than 2 years are the most number of users ."
   ]
  },
  {
   "cell_type": "markdown",
   "id": "2b3513cc",
   "metadata": {},
   "source": [
    "## 4.Frequency of Spotify usage between genders"
   ]
  },
  {
   "cell_type": "code",
   "execution_count": 38,
   "id": "ae1fb4ef",
   "metadata": {},
   "outputs": [
    {
     "data": {
      "image/png": "[encoded data removed]",
      "text/plain": [
       "<Figure size 500x500 with 1 Axes>"
      ]
     },
     "metadata": {},
     "output_type": "display_data"
    },
    {
     "data": {
      "text/plain": [
       "<function warnings.filterwarnings(action, message='', category=<class 'Warning'>, module='', lineno=0, append=False)>"
      ]
     },
     "execution_count": 38,
     "metadata": {},
     "output_type": "execute_result"
    }
   ],
   "source": [
    "sns.displot(df['Gender'])\n",
    "plt.show()\n",
    "warnings.filterwarnings"
   ]
  },
  {
   "cell_type": "markdown",
   "id": "242fa4d8",
   "metadata": {},
   "source": [
    "Females are the most spotify users."
   ]
  },
  {
   "cell_type": "code",
   "execution_count": 16,
   "id": "79534606",
   "metadata": {
    "scrolled": true
   },
   "outputs": [
    {
     "data": {
      "text/plain": [
       "<bound method Series.aggregate of 0      Female\n",
       "1        Male\n",
       "2      Others\n",
       "3      Female\n",
       "4      Female\n",
       "        ...  \n",
       "515    Female\n",
       "516    Female\n",
       "517    Female\n",
       "518    Female\n",
       "519    Female\n",
       "Name: Gender, Length: 520, dtype: object>"
      ]
     },
     "execution_count": 16,
     "metadata": {},
     "output_type": "execute_result"
    }
   ],
   "source": [
    "df['Gender'].aggregate"
   ]
  },
  {
   "cell_type": "markdown",
   "id": "284b5333",
   "metadata": {},
   "source": [
    "## 5.Most common listening devices among Spotify users\n"
   ]
  },
  {
   "cell_type": "code",
   "execution_count": 17,
   "id": "5b1b2b61",
   "metadata": {},
   "outputs": [
    {
     "data": {
      "text/plain": [
       "'Wearable devices'"
      ]
     },
     "execution_count": 17,
     "metadata": {},
     "output_type": "execute_result"
    }
   ],
   "source": [
    "df['spotify_listening_device'].max()"
   ]
  },
  {
   "cell_type": "code",
   "execution_count": 5,
   "id": "6ad508c0",
   "metadata": {},
   "outputs": [
    {
     "data": {
      "text/plain": [
       "'Wearable devices'"
      ]
     },
     "execution_count": 5,
     "metadata": {},
     "output_type": "execute_result"
    }
   ],
   "source": [
    "r=df['spotify_listening_device'].max()\n",
    "r"
   ]
  },
  {
   "cell_type": "markdown",
   "id": "787aa7e1",
   "metadata": {},
   "source": [
    "'Wearable devices' is the most listening devices."
   ]
  },
  {
   "cell_type": "markdown",
   "id": "a98fdce7",
   "metadata": {},
   "source": [
    "## 6.Top three favorite music genres among Spotify users"
   ]
  },
  {
   "cell_type": "code",
   "execution_count": 26,
   "id": "e3470fc0",
   "metadata": {
    "scrolled": true
   },
   "outputs": [
    {
     "data": {
      "text/plain": [
       "fav_music_genre\n",
       "Melody       259\n",
       "classical     87\n",
       "Pop           85\n",
       "Name: count, dtype: int64"
      ]
     },
     "execution_count": 26,
     "metadata": {},
     "output_type": "execute_result"
    }
   ],
   "source": [
    "genres = df['fav_music_genre'].value_counts()\n",
    "cc = genres.head(3)\n",
    "cc"
   ]
  },
  {
   "cell_type": "markdown",
   "id": "26fdc3c8",
   "metadata": {},
   "source": [
    "Melody, classical , Pop     these are the most three favourate music generes."
   ]
  },
  {
   "cell_type": "code",
   "execution_count": 59,
   "id": "9da47c77",
   "metadata": {
    "scrolled": true
   },
   "outputs": [
    {
     "data": {
      "text/plain": [
       "520"
      ]
     },
     "execution_count": 59,
     "metadata": {},
     "output_type": "execute_result"
    }
   ],
   "source": [
    "df['fav_music_genre'].count()"
   ]
  },
  {
   "cell_type": "markdown",
   "id": "8cfaac78",
   "metadata": {},
   "source": [
    "## 7.Overall satisfaction rating for Spotify's music recommendations"
   ]
  },
  {
   "cell_type": "code",
   "execution_count": 24,
   "id": "0b805a32",
   "metadata": {},
   "outputs": [
    {
     "data": {
      "text/plain": [
       "'Very Satisfied'"
      ]
     },
     "execution_count": 24,
     "metadata": {},
     "output_type": "execute_result"
    }
   ],
   "source": [
    "df['pod_variety_satisfaction'].max()"
   ]
  },
  {
   "cell_type": "markdown",
   "id": "3bcc81f6",
   "metadata": {},
   "source": [
    "'Very Satisfied' are most users."
   ]
  },
  {
   "cell_type": "markdown",
   "id": "19ac0e40",
   "metadata": {},
   "source": [
    "## 8.Satisfaction with the variety and availability of podcasts on Spotify"
   ]
  },
  {
   "cell_type": "code",
   "execution_count": 62,
   "id": "4072855d",
   "metadata": {
    "scrolled": true
   },
   "outputs": [
    {
     "data": {
      "text/plain": [
       "<bound method Series.aggregate of 0             Ok\n",
       "1      Satisfied\n",
       "2      Satisfied\n",
       "3             Ok\n",
       "4             Ok\n",
       "         ...    \n",
       "515           Ok\n",
       "516           Ok\n",
       "517           Ok\n",
       "518    Satisfied\n",
       "519           Ok\n",
       "Name: pod_variety_satisfaction, Length: 520, dtype: object>"
      ]
     },
     "execution_count": 62,
     "metadata": {},
     "output_type": "execute_result"
    }
   ],
   "source": [
    "df['pod_variety_satisfaction'].agg"
   ]
  },
  {
   "cell_type": "markdown",
   "id": "e5f50eda",
   "metadata": {},
   "source": [
    "ALL users are satisfied"
   ]
  },
  {
   "cell_type": "markdown",
   "id": "2ed665b0",
   "metadata": {},
   "source": [
    "## 9.Median Spotify usage period among users satisfied with podcast variety\n"
   ]
  },
  {
   "cell_type": "code",
   "execution_count": 49,
   "id": "f2f9ddf8",
   "metadata": {},
   "outputs": [
    {
     "data": {
      "text/plain": [
       "<bound method NDFrame._add_numeric_operations.<locals>.median of 0             Ok\n",
       "1      Satisfied\n",
       "2      Satisfied\n",
       "3             Ok\n",
       "4             Ok\n",
       "         ...    \n",
       "515           Ok\n",
       "516           Ok\n",
       "517           Ok\n",
       "518    Satisfied\n",
       "519           Ok\n",
       "Name: pod_variety_satisfaction, Length: 520, dtype: object>"
      ]
     },
     "execution_count": 49,
     "metadata": {},
     "output_type": "execute_result"
    }
   ],
   "source": [
    "df['pod_variety_satisfaction'].median"
   ]
  },
  {
   "cell_type": "markdown",
   "id": "ff1e5e58",
   "metadata": {},
   "source": [
    "## 10.Average satisfaction rating for music recommendations by subscription plan"
   ]
  },
  {
   "cell_type": "code",
   "execution_count": 37,
   "id": "1fbb2549",
   "metadata": {},
   "outputs": [
    {
     "data": {
      "text/plain": [
       "fav_music_genre\n",
       "Melody                       259\n",
       "classical                     87\n",
       "Pop                           85\n",
       "Rap                           55\n",
       "Electronic/Dance              16\n",
       "All                            6\n",
       "Rock                           4\n",
       "Kpop                           4\n",
       "Classical & melody, dance      2\n",
       "Old songs                      1\n",
       "trending songs random          1\n",
       "Name: count, dtype: int64"
      ]
     },
     "execution_count": 37,
     "metadata": {},
     "output_type": "execute_result"
    }
   ],
   "source": [
    "df['fav_music_genre'].value_counts()"
   ]
  },
  {
   "cell_type": "markdown",
   "id": "3acecc20",
   "metadata": {},
   "source": [
    "Melody is the average music recommendations by subscription plan"
   ]
  },
  {
   "cell_type": "markdown",
   "id": "1abe91ae",
   "metadata": {},
   "source": [
    "## 11.Proportion of users willing to take a premium subscription"
   ]
  },
  {
   "cell_type": "code",
   "execution_count": 38,
   "id": "2626acc7",
   "metadata": {},
   "outputs": [
    {
     "data": {
      "text/plain": [
       "preffered_premium_plan\n",
       "Individual Plan- Rs 119/ month    95\n",
       "Student Plan-Rs 59/month          94\n",
       "Duo plan- Rs 149/month            84\n",
       "Family Plan-Rs 179/month          39\n",
       "Name: count, dtype: int64"
      ]
     },
     "execution_count": 38,
     "metadata": {},
     "output_type": "execute_result"
    }
   ],
   "source": [
    "df['preffered_premium_plan'].value_counts()"
   ]
  },
  {
   "cell_type": "markdown",
   "id": "7c7d2ca5",
   "metadata": {},
   "source": [
    "Individual Plan- Rs 119/ month is that the users willing to take a premium subscription"
   ]
  },
  {
   "cell_type": "markdown",
   "id": "63354bec",
   "metadata": {},
   "source": [
    "## 12.Average Spotify usage period by gender"
   ]
  },
  {
   "cell_type": "code",
   "execution_count": 36,
   "id": "63ac24bf",
   "metadata": {},
   "outputs": [
    {
     "data": {
      "text/plain": [
       "Gender\n",
       "Female    391\n",
       "Male      114\n",
       "Others     15\n",
       "Name: count, dtype: int64"
      ]
     },
     "execution_count": 36,
     "metadata": {},
     "output_type": "execute_result"
    }
   ],
   "source": [
    "df['Gender'].value_counts()"
   ]
  },
  {
   "cell_type": "markdown",
   "id": "619e4dcf",
   "metadata": {},
   "source": [
    "Females are the average users."
   ]
  },
  {
   "cell_type": "markdown",
   "id": "d91670e7",
   "metadata": {},
   "source": [
    "## 13.Calculate the correlation matrix"
   ]
  },
  {
   "cell_type": "code",
   "execution_count": 53,
   "id": "0d7d66d6",
   "metadata": {},
   "outputs": [
    {
     "data": {
      "text/html": [
       "<div>\n",
       "<style scoped>\n",
       "    .dataframe tbody tr th:only-of-type {\n",
       "        vertical-align: middle;\n",
       "    }\n",
       "\n",
       "    .dataframe tbody tr th {\n",
       "        vertical-align: top;\n",
       "    }\n",
       "\n",
       "    .dataframe thead th {\n",
       "        text-align: right;\n",
       "    }\n",
       "</style>\n",
       "<table border=\"1\" class=\"dataframe\">\n",
       "  <thead>\n",
       "    <tr style=\"text-align: right;\">\n",
       "      <th></th>\n",
       "      <th>music_recc_rating</th>\n",
       "    </tr>\n",
       "  </thead>\n",
       "  <tbody>\n",
       "    <tr>\n",
       "      <th>music_recc_rating</th>\n",
       "      <td>1.0</td>\n",
       "    </tr>\n",
       "  </tbody>\n",
       "</table>\n",
       "</div>"
      ],
      "text/plain": [
       "                   music_recc_rating\n",
       "music_recc_rating                1.0"
      ]
     },
     "execution_count": 53,
     "metadata": {},
     "output_type": "execute_result"
    }
   ],
   "source": [
    "AMK=df.corr(numeric_only=True)\n",
    "AMK"
   ]
  },
  {
   "cell_type": "code",
   "execution_count": 55,
   "id": "e33a0ee9",
   "metadata": {},
   "outputs": [
    {
     "data": {
      "text/plain": [
       "<Axes: >"
      ]
     },
     "execution_count": 55,
     "metadata": {},
     "output_type": "execute_result"
    },
    {
     "data": {
      "image/png": "[encoded data removed]",
      "text/plain": [
       "<Figure size 640x480 with 2 Axes>"
      ]
     },
     "metadata": {},
     "output_type": "display_data"
    }
   ],
   "source": [
    "sns.heatmap(AMK)"
   ]
  },
  {
   "cell_type": "markdown",
   "id": "acc2b947",
   "metadata": {},
   "source": [
    "## 14.Calculate average podcast duration by preferred podcast format"
   ]
  },
  {
   "cell_type": "code",
   "execution_count": 73,
   "id": "6366e4f5",
   "metadata": {},
   "outputs": [
    {
     "data": {
      "text/plain": [
       "1.0"
      ]
     },
     "execution_count": 73,
     "metadata": {},
     "output_type": "execute_result"
    }
   ],
   "source": [
    "nv=df.groupby(['preffered_pod_format','preffered_pod_duration']).value_counts().mean()\n",
    "nv\n"
   ]
  },
  {
   "cell_type": "markdown",
   "id": "e8f5fc9b",
   "metadata": {},
   "source": [
    "1% is the average podcast duration preffered podcast format."
   ]
  },
  {
   "cell_type": "markdown",
   "id": "6f017026",
   "metadata": {},
   "source": [
    "# RESULT and CONCLUTION"
   ]
  },
  {
   "cell_type": "markdown",
   "id": "511c0a09",
   "metadata": {},
   "source": [
    "2. AGE group of 20-35 are the most spotify users from this dataset.\n",
    "3. More than 2 years are the most number of users.\n",
    "4. Females are the most spotify users.\n",
    "5. Wearable devices is the most listening devices.\n",
    "6. Melody, classical , Pop     these are the most three favourate music generes.\n",
    "7. Very Satisfied' are most users.\n",
    "10.Melody is the average music recommendations by subscription plan\n",
    "13.Individual Plan- Rs 119/ month is that the users willing to take a premium subscription\n",
    "12. Females are the average users.\n",
    "14. 1% is the average podcast duration preffered podcast format."
   ]
  }
 ],
 "metadata": {
  "kernelspec": {
   "display_name": "Python 3 (ipykernel)",
   "language": "python",
   "name": "python3"
  },
  "language_info": {
   "codemirror_mode": {
    "name": "ipython",
    "version": 3
   },
   "file_extension": ".py",
   "mimetype": "text/x-python",
   "name": "python",
   "nbconvert_exporter": "python",
   "pygments_lexer": "ipython3",
   "version": "3.11.5"
  }
 },
 "nbformat": 4,
 "nbformat_minor": 5
}
